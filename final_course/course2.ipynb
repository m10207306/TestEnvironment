{
 "cells": [
  {
   "cell_type": "code",
   "execution_count": 4,
   "metadata": {},
   "outputs": [
    {
     "name": "stdout",
     "output_type": "stream",
     "text": [
      "105797.95\n"
     ]
    }
   ],
   "source": [
    "account = 100000\n",
    "stock_price = 30\n",
    "buy_amount = 1\n",
    "\n",
    "fee_ratio = 1.425/1000\n",
    "tax_ratio = 3/1000\n",
    "\n",
    "stock_value = stock_price * buy_amount * 1000\n",
    "account = account - stock_value - stock_value * fee_ratio\n",
    "\n",
    "stock_price = stock_price * 1.2\n",
    "\n",
    "stock_value = stock_price * buy_amount * 1000\n",
    "account = account + stock_value - stock_value * (fee_ratio + tax_ratio)\n",
    "\n",
    "print(account)"
   ]
  },
  {
   "cell_type": "code",
   "execution_count": 5,
   "metadata": {},
   "outputs": [
    {
     "name": "stdout",
     "output_type": "stream",
     "text": [
      "110248.7875\n"
     ]
    }
   ],
   "source": [
    "account = 100000\n",
    "stock_price = 35\n",
    "buy_amount = 1\n",
    "\n",
    "fee_ratio = 1.425/1000\n",
    "tax_ratio = 3/1000\n",
    "\n",
    "stock_value = stock_price * buy_amount * 1000\n",
    "account = account - stock_value - stock_value * fee_ratio\n",
    "\n",
    "stock_price = stock_price * 1.3\n",
    "\n",
    "stock_value = stock_price * buy_amount * 1000\n",
    "account = account + stock_value - stock_value * (fee_ratio + tax_ratio)\n",
    "\n",
    "print(account)"
   ]
  },
  {
   "cell_type": "code",
   "execution_count": null,
   "metadata": {},
   "outputs": [],
   "source": [
    " "
   ]
  }
 ],
 "metadata": {
  "kernelspec": {
   "display_name": "Python 3",
   "language": "python",
   "name": "python3"
  },
  "language_info": {
   "codemirror_mode": {
    "name": "ipython",
    "version": 3
   },
   "file_extension": ".py",
   "mimetype": "text/x-python",
   "name": "python",
   "nbconvert_exporter": "python",
   "pygments_lexer": "ipython3",
   "version": "3.7.6"
  }
 },
 "nbformat": 4,
 "nbformat_minor": 4
}
